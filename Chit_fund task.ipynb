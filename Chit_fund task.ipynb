{
 "cells": [
  {
   "cell_type": "code",
   "execution_count": 1,
   "metadata": {},
   "outputs": [],
   "source": [
    "import numpy as np\n",
    "import pandas as pd\n",
    "import matplotlib.pyplot as plt"
   ]
  },
  {
   "cell_type": "code",
   "execution_count": 2,
   "metadata": {},
   "outputs": [],
   "source": [
    "chit_data = pd.read_excel(\"chit fund exercise.xlsx\")"
   ]
  },
  {
   "cell_type": "code",
   "execution_count": 3,
   "metadata": {},
   "outputs": [
    {
     "data": {
      "text/html": [
       "<div>\n",
       "<style scoped>\n",
       "    .dataframe tbody tr th:only-of-type {\n",
       "        vertical-align: middle;\n",
       "    }\n",
       "\n",
       "    .dataframe tbody tr th {\n",
       "        vertical-align: top;\n",
       "    }\n",
       "\n",
       "    .dataframe thead th {\n",
       "        text-align: right;\n",
       "    }\n",
       "</style>\n",
       "<table border=\"1\" class=\"dataframe\">\n",
       "  <thead>\n",
       "    <tr style=\"text-align: right;\">\n",
       "      <th></th>\n",
       "      <th>Month</th>\n",
       "      <th>Contribution</th>\n",
       "      <th>Amount won by the bidder</th>\n",
       "      <th>Chit fund organizer commission</th>\n",
       "      <th>Net amount recd by Bid winner</th>\n",
       "      <th>Amount returned to everyone in the group</th>\n",
       "    </tr>\n",
       "  </thead>\n",
       "  <tbody>\n",
       "    <tr>\n",
       "      <th>0</th>\n",
       "      <td>1</td>\n",
       "      <td>2000</td>\n",
       "      <td>40000</td>\n",
       "      <td>2500</td>\n",
       "      <td>37500</td>\n",
       "      <td>400</td>\n",
       "    </tr>\n",
       "    <tr>\n",
       "      <th>1</th>\n",
       "      <td>2</td>\n",
       "      <td>2000</td>\n",
       "      <td>42000</td>\n",
       "      <td>2500</td>\n",
       "      <td>39500</td>\n",
       "      <td>320</td>\n",
       "    </tr>\n",
       "    <tr>\n",
       "      <th>2</th>\n",
       "      <td>3</td>\n",
       "      <td>2000</td>\n",
       "      <td>45000</td>\n",
       "      <td>2500</td>\n",
       "      <td>42500</td>\n",
       "      <td>200</td>\n",
       "    </tr>\n",
       "    <tr>\n",
       "      <th>3</th>\n",
       "      <td>4</td>\n",
       "      <td>2000</td>\n",
       "      <td>48000</td>\n",
       "      <td>2500</td>\n",
       "      <td>45500</td>\n",
       "      <td>80</td>\n",
       "    </tr>\n",
       "    <tr>\n",
       "      <th>4</th>\n",
       "      <td>5</td>\n",
       "      <td>2000</td>\n",
       "      <td>40000</td>\n",
       "      <td>2500</td>\n",
       "      <td>37500</td>\n",
       "      <td>400</td>\n",
       "    </tr>\n",
       "  </tbody>\n",
       "</table>\n",
       "</div>"
      ],
      "text/plain": [
       "   Month  Contribution  Amount won by the bidder  \\\n",
       "0      1          2000                     40000   \n",
       "1      2          2000                     42000   \n",
       "2      3          2000                     45000   \n",
       "3      4          2000                     48000   \n",
       "4      5          2000                     40000   \n",
       "\n",
       "   Chit fund organizer commission  Net amount recd by Bid winner  \\\n",
       "0                            2500                          37500   \n",
       "1                            2500                          39500   \n",
       "2                            2500                          42500   \n",
       "3                            2500                          45500   \n",
       "4                            2500                          37500   \n",
       "\n",
       "   Amount returned to everyone in the group  \n",
       "0                                       400  \n",
       "1                                       320  \n",
       "2                                       200  \n",
       "3                                        80  \n",
       "4                                       400  "
      ]
     },
     "execution_count": 3,
     "metadata": {},
     "output_type": "execute_result"
    }
   ],
   "source": [
    "chit_data.head()"
   ]
  },
  {
   "cell_type": "code",
   "execution_count": 4,
   "metadata": {},
   "outputs": [
    {
     "name": "stdout",
     "output_type": "stream",
     "text": [
      "chit_size: (25, 6)\n"
     ]
    }
   ],
   "source": [
    "print(\"chit_size:\",chit_data.shape)"
   ]
  },
  {
   "cell_type": "markdown",
   "metadata": {},
   "source": [
    "By data,There are 25 unique chit funders and as per the rules only once the money can be borrowed.first thing totol money calculated by each person in each month is given by"
   ]
  },
  {
   "cell_type": "code",
   "execution_count": 5,
   "metadata": {},
   "outputs": [],
   "source": [
    "chit_data[\"total Contribution\"] = chit_data[\"Contribution\"] - chit_data[\"Amount returned to everyone in the group\"]\n"
   ]
  },
  {
   "cell_type": "code",
   "execution_count": 6,
   "metadata": {},
   "outputs": [
    {
     "data": {
      "text/html": [
       "<div>\n",
       "<style scoped>\n",
       "    .dataframe tbody tr th:only-of-type {\n",
       "        vertical-align: middle;\n",
       "    }\n",
       "\n",
       "    .dataframe tbody tr th {\n",
       "        vertical-align: top;\n",
       "    }\n",
       "\n",
       "    .dataframe thead th {\n",
       "        text-align: right;\n",
       "    }\n",
       "</style>\n",
       "<table border=\"1\" class=\"dataframe\">\n",
       "  <thead>\n",
       "    <tr style=\"text-align: right;\">\n",
       "      <th></th>\n",
       "      <th>Month</th>\n",
       "      <th>Contribution</th>\n",
       "      <th>Amount won by the bidder</th>\n",
       "      <th>Chit fund organizer commission</th>\n",
       "      <th>Net amount recd by Bid winner</th>\n",
       "      <th>Amount returned to everyone in the group</th>\n",
       "      <th>total Contribution</th>\n",
       "    </tr>\n",
       "  </thead>\n",
       "  <tbody>\n",
       "    <tr>\n",
       "      <th>0</th>\n",
       "      <td>1</td>\n",
       "      <td>2000</td>\n",
       "      <td>40000</td>\n",
       "      <td>2500</td>\n",
       "      <td>37500</td>\n",
       "      <td>400</td>\n",
       "      <td>1600</td>\n",
       "    </tr>\n",
       "    <tr>\n",
       "      <th>1</th>\n",
       "      <td>2</td>\n",
       "      <td>2000</td>\n",
       "      <td>42000</td>\n",
       "      <td>2500</td>\n",
       "      <td>39500</td>\n",
       "      <td>320</td>\n",
       "      <td>1680</td>\n",
       "    </tr>\n",
       "    <tr>\n",
       "      <th>2</th>\n",
       "      <td>3</td>\n",
       "      <td>2000</td>\n",
       "      <td>45000</td>\n",
       "      <td>2500</td>\n",
       "      <td>42500</td>\n",
       "      <td>200</td>\n",
       "      <td>1800</td>\n",
       "    </tr>\n",
       "    <tr>\n",
       "      <th>3</th>\n",
       "      <td>4</td>\n",
       "      <td>2000</td>\n",
       "      <td>48000</td>\n",
       "      <td>2500</td>\n",
       "      <td>45500</td>\n",
       "      <td>80</td>\n",
       "      <td>1920</td>\n",
       "    </tr>\n",
       "    <tr>\n",
       "      <th>4</th>\n",
       "      <td>5</td>\n",
       "      <td>2000</td>\n",
       "      <td>40000</td>\n",
       "      <td>2500</td>\n",
       "      <td>37500</td>\n",
       "      <td>400</td>\n",
       "      <td>1600</td>\n",
       "    </tr>\n",
       "  </tbody>\n",
       "</table>\n",
       "</div>"
      ],
      "text/plain": [
       "   Month  Contribution  Amount won by the bidder  \\\n",
       "0      1          2000                     40000   \n",
       "1      2          2000                     42000   \n",
       "2      3          2000                     45000   \n",
       "3      4          2000                     48000   \n",
       "4      5          2000                     40000   \n",
       "\n",
       "   Chit fund organizer commission  Net amount recd by Bid winner  \\\n",
       "0                            2500                          37500   \n",
       "1                            2500                          39500   \n",
       "2                            2500                          42500   \n",
       "3                            2500                          45500   \n",
       "4                            2500                          37500   \n",
       "\n",
       "   Amount returned to everyone in the group  total Contribution  \n",
       "0                                       400                1600  \n",
       "1                                       320                1680  \n",
       "2                                       200                1800  \n",
       "3                                        80                1920  \n",
       "4                                       400                1600  "
      ]
     },
     "execution_count": 6,
     "metadata": {},
     "output_type": "execute_result"
    }
   ],
   "source": [
    "chit_data.head()"
   ]
  },
  {
   "cell_type": "markdown",
   "metadata": {},
   "source": [
    "Calculating overall Contribution contributed by each member of the chit fund throughout 25 months. \n",
    "overall amount contributed by each member = Sum of (Contribution of every month(2000) - Amount returned) for 25 months"
   ]
  },
  {
   "cell_type": "code",
   "execution_count": 7,
   "metadata": {},
   "outputs": [
    {
     "data": {
      "text/plain": [
       "43800"
      ]
     },
     "execution_count": 7,
     "metadata": {},
     "output_type": "execute_result"
    }
   ],
   "source": [
    "total =chit_data[\"total Contribution\"].sum()\n",
    "total"
   ]
  },
  {
   "cell_type": "markdown",
   "metadata": {},
   "source": [
    "Calculating Return/Net Profit obtained by the Bid Winners for every month \n",
    "Return = Net amount received by a participant - total amount contributed by a participant\n"
   ]
  },
  {
   "cell_type": "code",
   "execution_count": 8,
   "metadata": {},
   "outputs": [],
   "source": [
    "chit_data[\"return\"] = chit_data[\"Net amount recd by Bid winner\"] - total\n"
   ]
  },
  {
   "cell_type": "code",
   "execution_count": 9,
   "metadata": {},
   "outputs": [
    {
     "data": {
      "text/html": [
       "<div>\n",
       "<style scoped>\n",
       "    .dataframe tbody tr th:only-of-type {\n",
       "        vertical-align: middle;\n",
       "    }\n",
       "\n",
       "    .dataframe tbody tr th {\n",
       "        vertical-align: top;\n",
       "    }\n",
       "\n",
       "    .dataframe thead th {\n",
       "        text-align: right;\n",
       "    }\n",
       "</style>\n",
       "<table border=\"1\" class=\"dataframe\">\n",
       "  <thead>\n",
       "    <tr style=\"text-align: right;\">\n",
       "      <th></th>\n",
       "      <th>Month</th>\n",
       "      <th>Contribution</th>\n",
       "      <th>Amount won by the bidder</th>\n",
       "      <th>Chit fund organizer commission</th>\n",
       "      <th>Net amount recd by Bid winner</th>\n",
       "      <th>Amount returned to everyone in the group</th>\n",
       "      <th>total Contribution</th>\n",
       "      <th>return</th>\n",
       "    </tr>\n",
       "  </thead>\n",
       "  <tbody>\n",
       "    <tr>\n",
       "      <th>0</th>\n",
       "      <td>1</td>\n",
       "      <td>2000</td>\n",
       "      <td>40000</td>\n",
       "      <td>2500</td>\n",
       "      <td>37500</td>\n",
       "      <td>400</td>\n",
       "      <td>1600</td>\n",
       "      <td>-6300</td>\n",
       "    </tr>\n",
       "    <tr>\n",
       "      <th>1</th>\n",
       "      <td>2</td>\n",
       "      <td>2000</td>\n",
       "      <td>42000</td>\n",
       "      <td>2500</td>\n",
       "      <td>39500</td>\n",
       "      <td>320</td>\n",
       "      <td>1680</td>\n",
       "      <td>-4300</td>\n",
       "    </tr>\n",
       "    <tr>\n",
       "      <th>2</th>\n",
       "      <td>3</td>\n",
       "      <td>2000</td>\n",
       "      <td>45000</td>\n",
       "      <td>2500</td>\n",
       "      <td>42500</td>\n",
       "      <td>200</td>\n",
       "      <td>1800</td>\n",
       "      <td>-1300</td>\n",
       "    </tr>\n",
       "    <tr>\n",
       "      <th>3</th>\n",
       "      <td>4</td>\n",
       "      <td>2000</td>\n",
       "      <td>48000</td>\n",
       "      <td>2500</td>\n",
       "      <td>45500</td>\n",
       "      <td>80</td>\n",
       "      <td>1920</td>\n",
       "      <td>1700</td>\n",
       "    </tr>\n",
       "    <tr>\n",
       "      <th>4</th>\n",
       "      <td>5</td>\n",
       "      <td>2000</td>\n",
       "      <td>40000</td>\n",
       "      <td>2500</td>\n",
       "      <td>37500</td>\n",
       "      <td>400</td>\n",
       "      <td>1600</td>\n",
       "      <td>-6300</td>\n",
       "    </tr>\n",
       "  </tbody>\n",
       "</table>\n",
       "</div>"
      ],
      "text/plain": [
       "   Month  Contribution  Amount won by the bidder  \\\n",
       "0      1          2000                     40000   \n",
       "1      2          2000                     42000   \n",
       "2      3          2000                     45000   \n",
       "3      4          2000                     48000   \n",
       "4      5          2000                     40000   \n",
       "\n",
       "   Chit fund organizer commission  Net amount recd by Bid winner  \\\n",
       "0                            2500                          37500   \n",
       "1                            2500                          39500   \n",
       "2                            2500                          42500   \n",
       "3                            2500                          45500   \n",
       "4                            2500                          37500   \n",
       "\n",
       "   Amount returned to everyone in the group  total Contribution  return  \n",
       "0                                       400                1600   -6300  \n",
       "1                                       320                1680   -4300  \n",
       "2                                       200                1800   -1300  \n",
       "3                                        80                1920    1700  \n",
       "4                                       400                1600   -6300  "
      ]
     },
     "execution_count": 9,
     "metadata": {},
     "output_type": "execute_result"
    }
   ],
   "source": [
    "chit_data.head()"
   ]
  },
  {
   "cell_type": "markdown",
   "metadata": {},
   "source": [
    "Calculating Return Percentage obtained by the Bid Winners for every month \n",
    "\n",
    "Return percentage = (Amount returned to everyone in the group / Total amount invested) X 100\n"
   ]
  },
  {
   "cell_type": "code",
   "execution_count": 15,
   "metadata": {},
   "outputs": [],
   "source": [
    "chit_data[\"ret%\"] = (chit_data[\"return\"]/total)*100\n"
   ]
  },
  {
   "cell_type": "code",
   "execution_count": 16,
   "metadata": {},
   "outputs": [
    {
     "data": {
      "text/html": [
       "<div>\n",
       "<style scoped>\n",
       "    .dataframe tbody tr th:only-of-type {\n",
       "        vertical-align: middle;\n",
       "    }\n",
       "\n",
       "    .dataframe tbody tr th {\n",
       "        vertical-align: top;\n",
       "    }\n",
       "\n",
       "    .dataframe thead th {\n",
       "        text-align: right;\n",
       "    }\n",
       "</style>\n",
       "<table border=\"1\" class=\"dataframe\">\n",
       "  <thead>\n",
       "    <tr style=\"text-align: right;\">\n",
       "      <th></th>\n",
       "      <th>Month</th>\n",
       "      <th>Contribution</th>\n",
       "      <th>Amount won by the bidder</th>\n",
       "      <th>Chit fund organizer commission</th>\n",
       "      <th>Net amount recd by Bid winner</th>\n",
       "      <th>Amount returned to everyone in the group</th>\n",
       "      <th>total Contribution</th>\n",
       "      <th>return</th>\n",
       "      <th>ret%</th>\n",
       "    </tr>\n",
       "  </thead>\n",
       "  <tbody>\n",
       "    <tr>\n",
       "      <th>0</th>\n",
       "      <td>1</td>\n",
       "      <td>2000</td>\n",
       "      <td>40000</td>\n",
       "      <td>2500</td>\n",
       "      <td>37500</td>\n",
       "      <td>400</td>\n",
       "      <td>1600</td>\n",
       "      <td>-6300</td>\n",
       "      <td>-14.383562</td>\n",
       "    </tr>\n",
       "    <tr>\n",
       "      <th>1</th>\n",
       "      <td>2</td>\n",
       "      <td>2000</td>\n",
       "      <td>42000</td>\n",
       "      <td>2500</td>\n",
       "      <td>39500</td>\n",
       "      <td>320</td>\n",
       "      <td>1680</td>\n",
       "      <td>-4300</td>\n",
       "      <td>-9.817352</td>\n",
       "    </tr>\n",
       "    <tr>\n",
       "      <th>2</th>\n",
       "      <td>3</td>\n",
       "      <td>2000</td>\n",
       "      <td>45000</td>\n",
       "      <td>2500</td>\n",
       "      <td>42500</td>\n",
       "      <td>200</td>\n",
       "      <td>1800</td>\n",
       "      <td>-1300</td>\n",
       "      <td>-2.968037</td>\n",
       "    </tr>\n",
       "    <tr>\n",
       "      <th>3</th>\n",
       "      <td>4</td>\n",
       "      <td>2000</td>\n",
       "      <td>48000</td>\n",
       "      <td>2500</td>\n",
       "      <td>45500</td>\n",
       "      <td>80</td>\n",
       "      <td>1920</td>\n",
       "      <td>1700</td>\n",
       "      <td>3.881279</td>\n",
       "    </tr>\n",
       "    <tr>\n",
       "      <th>4</th>\n",
       "      <td>5</td>\n",
       "      <td>2000</td>\n",
       "      <td>40000</td>\n",
       "      <td>2500</td>\n",
       "      <td>37500</td>\n",
       "      <td>400</td>\n",
       "      <td>1600</td>\n",
       "      <td>-6300</td>\n",
       "      <td>-14.383562</td>\n",
       "    </tr>\n",
       "  </tbody>\n",
       "</table>\n",
       "</div>"
      ],
      "text/plain": [
       "   Month  Contribution  Amount won by the bidder  \\\n",
       "0      1          2000                     40000   \n",
       "1      2          2000                     42000   \n",
       "2      3          2000                     45000   \n",
       "3      4          2000                     48000   \n",
       "4      5          2000                     40000   \n",
       "\n",
       "   Chit fund organizer commission  Net amount recd by Bid winner  \\\n",
       "0                            2500                          37500   \n",
       "1                            2500                          39500   \n",
       "2                            2500                          42500   \n",
       "3                            2500                          45500   \n",
       "4                            2500                          37500   \n",
       "\n",
       "   Amount returned to everyone in the group  total Contribution  return  \\\n",
       "0                                       400                1600   -6300   \n",
       "1                                       320                1680   -4300   \n",
       "2                                       200                1800   -1300   \n",
       "3                                        80                1920    1700   \n",
       "4                                       400                1600   -6300   \n",
       "\n",
       "        ret%  \n",
       "0 -14.383562  \n",
       "1  -9.817352  \n",
       "2  -2.968037  \n",
       "3   3.881279  \n",
       "4 -14.383562  "
      ]
     },
     "execution_count": 16,
     "metadata": {},
     "output_type": "execute_result"
    }
   ],
   "source": [
    "chit_data.head()"
   ]
  },
  {
   "cell_type": "markdown",
   "metadata": {},
   "source": [
    "Answers"
   ]
  },
  {
   "cell_type": "markdown",
   "metadata": {},
   "source": [
    "Q1. What is the Annualized  Return of the person who bids in the last month ?\n",
    "\n",
    "Formula for Annualized Return which I was able to procure after reading on internet"
   ]
  },
  {
   "cell_type": "markdown",
   "metadata": {},
   "source": [
    "((1 + return%)^(12/months the chit fund is hold) - 1) * 100 "
   ]
  },
  {
   "cell_type": "code",
   "execution_count": 18,
   "metadata": {},
   "outputs": [
    {
     "data": {
      "text/plain": [
       "Month                                          25.000000\n",
       "Contribution                                 2000.000000\n",
       "Amount won by the bidder                    50000.000000\n",
       "Chit fund organizer commission               2500.000000\n",
       "Net amount recd by Bid winner               47500.000000\n",
       "Amount returned to everyone in the group        0.000000\n",
       "total Contribution                           2000.000000\n",
       "return                                       3700.000000\n",
       "ret%                                            8.447489\n",
       "Name: 24, dtype: float64"
      ]
     },
     "execution_count": 18,
     "metadata": {},
     "output_type": "execute_result"
    }
   ],
   "source": [
    "chit_data.iloc[24]"
   ]
  },
  {
   "cell_type": "code",
   "execution_count": 19,
   "metadata": {},
   "outputs": [
    {
     "data": {
      "text/plain": [
       "3.969357358648673"
      ]
     },
     "execution_count": 19,
     "metadata": {},
     "output_type": "execute_result"
    }
   ],
   "source": [
    "((((1 + (chit_data[\"ret%\"][24])/100)) ** (12/25)) - 1) * 100"
   ]
  },
  {
   "cell_type": "markdown",
   "metadata": {},
   "source": [
    "Annualized return of the person who bids in last month is: 3.97%"
   ]
  },
  {
   "cell_type": "markdown",
   "metadata": {},
   "source": [
    "Q2. What is the Annualized Return of the person who bids in the first month ?"
   ]
  },
  {
   "cell_type": "code",
   "execution_count": 21,
   "metadata": {},
   "outputs": [
    {
     "data": {
      "text/plain": [
       "Month                                           1.000000\n",
       "Contribution                                 2000.000000\n",
       "Amount won by the bidder                    40000.000000\n",
       "Chit fund organizer commission               2500.000000\n",
       "Net amount recd by Bid winner               37500.000000\n",
       "Amount returned to everyone in the group      400.000000\n",
       "total Contribution                           1600.000000\n",
       "return                                      -6300.000000\n",
       "ret%                                          -14.383562\n",
       "Name: 0, dtype: float64"
      ]
     },
     "execution_count": 21,
     "metadata": {},
     "output_type": "execute_result"
    }
   ],
   "source": [
    "chit_data.iloc[0]"
   ]
  },
  {
   "cell_type": "code",
   "execution_count": 22,
   "metadata": {},
   "outputs": [
    {
     "data": {
      "text/plain": [
       "-7.183019602665885"
      ]
     },
     "execution_count": 22,
     "metadata": {},
     "output_type": "execute_result"
    }
   ],
   "source": [
    "((((1 + (chit_data[\"ret%\"][0])/100)) ** (12/25)) - 1) * 100"
   ]
  },
  {
   "cell_type": "markdown",
   "metadata": {},
   "source": [
    "Annualized return of the person who bids in first month is: -7.18%\n"
   ]
  },
  {
   "cell_type": "markdown",
   "metadata": {},
   "source": [
    "Q3. Write an Python script which calculates the annualized return of chit fund participant? - Show the Return % for each month's bid winner.\n"
   ]
  },
  {
   "cell_type": "markdown",
   "metadata": {},
   "source": [
    "Return percentages of each month's bid winners.\n"
   ]
  },
  {
   "cell_type": "code",
   "execution_count": 23,
   "metadata": {},
   "outputs": [
    {
     "data": {
      "text/plain": [
       "0    -14.383562\n",
       "1     -9.817352\n",
       "2     -2.968037\n",
       "3      3.881279\n",
       "4    -14.383562\n",
       "5     -9.817352\n",
       "6     -7.534247\n",
       "7     -5.251142\n",
       "8    -14.383562\n",
       "9     -9.817352\n",
       "10    -2.968037\n",
       "11     3.881279\n",
       "12   -14.383562\n",
       "13    -9.817352\n",
       "14    -7.534247\n",
       "15    -7.534247\n",
       "16   -12.100457\n",
       "17    -9.817352\n",
       "18    -2.968037\n",
       "19    -2.968037\n",
       "20    -5.251142\n",
       "21    -0.684932\n",
       "22     1.598174\n",
       "23     3.881279\n",
       "24     8.447489\n",
       "Name: ret%, dtype: float64"
      ]
     },
     "execution_count": 23,
     "metadata": {},
     "output_type": "execute_result"
    }
   ],
   "source": [
    "chit_data[\"ret%\"]"
   ]
  },
  {
   "cell_type": "code",
   "execution_count": null,
   "metadata": {},
   "outputs": [],
   "source": []
  }
 ],
 "metadata": {
  "kernelspec": {
   "display_name": "Python 3",
   "language": "python",
   "name": "python3"
  },
  "language_info": {
   "codemirror_mode": {
    "name": "ipython",
    "version": 3
   },
   "file_extension": ".py",
   "mimetype": "text/x-python",
   "name": "python",
   "nbconvert_exporter": "python",
   "pygments_lexer": "ipython3",
   "version": "3.7.3"
  }
 },
 "nbformat": 4,
 "nbformat_minor": 2
}
